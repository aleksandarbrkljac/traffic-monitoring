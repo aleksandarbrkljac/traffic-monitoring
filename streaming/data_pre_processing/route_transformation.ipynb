{
 "cells": [
  {
   "cell_type": "code",
   "execution_count": 1,
   "metadata": {},
   "outputs": [
    {
     "name": "stderr",
     "output_type": "stream",
     "text": [
      "c:\\Users\\Andrea\\AppData\\Local\\Programs\\Python\\Python310\\lib\\site-packages\\bs4\\builder\\__init__.py:545: XMLParsedAsHTMLWarning: It looks like you're parsing an XML document using an HTML parser. If this really is an HTML document (maybe it's XHTML?), you can ignore or filter this warning. If it's XML, you should know that using an XML parser will be more reliable. To parse this document as XML, make sure you have the lxml package installed, and pass the keyword argument `features=\"xml\"` into the BeautifulSoup constructor.\n",
      "  warnings.warn(\n"
     ]
    }
   ],
   "source": [
    "# Script to transoform route data from https://gpx.studio/ and adding speed information\n",
    "import json\n",
    "import random\n",
    "from bs4 import BeautifulSoup\n",
    "\n",
    "with open(\"route.xml\") as f:\n",
    "    bs = BeautifulSoup(f.read())\n",
    "route = [trkpt.attrs for trkpt in bs.find_all('trkpt')]\n",
    "\n",
    "for point in route:\n",
    "    point['speed'] = random.randint(20, 70)\n",
    "\n",
    "\n",
    "with open(\"resulting.json\", \"w\", encoding=\"utf8\") as output:\n",
    "    output.write(json.dumps(route))\n"
   ]
  }
 ],
 "metadata": {
  "kernelspec": {
   "display_name": "Python 3",
   "language": "python",
   "name": "python3"
  },
  "language_info": {
   "codemirror_mode": {
    "name": "ipython",
    "version": 3
   },
   "file_extension": ".py",
   "mimetype": "text/x-python",
   "name": "python",
   "nbconvert_exporter": "python",
   "pygments_lexer": "ipython3",
   "version": "3.10.5"
  },
  "orig_nbformat": 4,
  "vscode": {
   "interpreter": {
    "hash": "434f2bcca716b3712093bbeaf4b043651dd7dfcf409992b3771072bf00fd41a0"
   }
  }
 },
 "nbformat": 4,
 "nbformat_minor": 2
}
